{
 "cells": [
  {
   "attachments": {},
   "cell_type": "markdown",
   "metadata": {},
   "source": [
    "<h3>Softmax</h3>"
   ]
  },
  {
   "cell_type": "code",
   "execution_count": 117,
   "metadata": {},
   "outputs": [
    {
     "data": {
      "text/plain": [
       "array([0.64391426, 0.0320586 , 0.23688282, 0.08714432])"
      ]
     },
     "execution_count": 117,
     "metadata": {},
     "output_type": "execute_result"
    }
   ],
   "source": [
    "import numpy as np\n",
    "\n",
    "z = np.array([5, 2, 4, 3])\n",
    "\n",
    "def test_softmax(z):\n",
    "    return np.exp(z)/np.sum(np.exp(z), axis=0)\n",
    "test_softmax(z)"
   ]
  },
  {
   "cell_type": "code",
   "execution_count": 118,
   "metadata": {},
   "outputs": [
    {
     "data": {
      "text/plain": [
       "<tf.Tensor: shape=(), dtype=float32, numpy=1.4067054>"
      ]
     },
     "execution_count": 118,
     "metadata": {},
     "output_type": "execute_result"
    }
   ],
   "source": [
    "from tensorflow.keras.losses import CategoricalCrossentropy\n",
    "\n",
    "y_hat = [[0.6, 0.3, 0.05, 0.05], [0.3, 0.1, 0.5, 0.1]]\n",
    "y_true = [[1, 0, 0, 0], [0, 1, 0, 0]]\n",
    "\n",
    "loss = CategoricalCrossentropy()\n",
    "loss(y_true, y_hat)\n"
   ]
  },
  {
   "cell_type": "code",
   "execution_count": 119,
   "metadata": {},
   "outputs": [
    {
     "data": {
      "text/plain": [
       "1.4067053583800182"
      ]
     },
     "execution_count": 119,
     "metadata": {},
     "output_type": "execute_result"
    }
   ],
   "source": [
    "-1/2*(np.log(0.6) + np.log(0.1))"
   ]
  },
  {
   "attachments": {},
   "cell_type": "markdown",
   "metadata": {},
   "source": [
    "<h3>Exercise</h3>"
   ]
  },
  {
   "attachments": {},
   "cell_type": "markdown",
   "metadata": {},
   "source": [
    "<h4>Import libraries</h4>"
   ]
  },
  {
   "cell_type": "code",
   "execution_count": 120,
   "metadata": {},
   "outputs": [],
   "source": [
    "import pandas as pd\n",
    "from sklearn.model_selection import train_test_split\n",
    "import numpy as np\n",
    "import matplotlib.pyplot as plt   "
   ]
  },
  {
   "attachments": {},
   "cell_type": "markdown",
   "metadata": {},
   "source": [
    "<h4>Load data</h4>\n",
    "<p>To create training and testing set we can use sklearn train_test_split feature.</p>"
   ]
  },
  {
   "cell_type": "code",
   "execution_count": 121,
   "metadata": {},
   "outputs": [
    {
     "data": {
      "text/html": [
       "<div>\n",
       "<style scoped>\n",
       "    .dataframe tbody tr th:only-of-type {\n",
       "        vertical-align: middle;\n",
       "    }\n",
       "\n",
       "    .dataframe tbody tr th {\n",
       "        vertical-align: top;\n",
       "    }\n",
       "\n",
       "    .dataframe thead th {\n",
       "        text-align: right;\n",
       "    }\n",
       "</style>\n",
       "<table border=\"1\" class=\"dataframe\">\n",
       "  <thead>\n",
       "    <tr style=\"text-align: right;\">\n",
       "      <th></th>\n",
       "      <th>Sepal_Length</th>\n",
       "      <th>Sepal_Width</th>\n",
       "      <th>Petal_Length</th>\n",
       "      <th>Petal_Width</th>\n",
       "      <th>Label</th>\n",
       "    </tr>\n",
       "  </thead>\n",
       "  <tbody>\n",
       "    <tr>\n",
       "      <th>0</th>\n",
       "      <td>5.1</td>\n",
       "      <td>3.5</td>\n",
       "      <td>1.4</td>\n",
       "      <td>0.2</td>\n",
       "      <td>0.0</td>\n",
       "    </tr>\n",
       "    <tr>\n",
       "      <th>1</th>\n",
       "      <td>4.9</td>\n",
       "      <td>3.0</td>\n",
       "      <td>1.4</td>\n",
       "      <td>0.2</td>\n",
       "      <td>0.0</td>\n",
       "    </tr>\n",
       "    <tr>\n",
       "      <th>2</th>\n",
       "      <td>4.7</td>\n",
       "      <td>3.2</td>\n",
       "      <td>1.3</td>\n",
       "      <td>0.2</td>\n",
       "      <td>0.0</td>\n",
       "    </tr>\n",
       "    <tr>\n",
       "      <th>3</th>\n",
       "      <td>4.6</td>\n",
       "      <td>3.1</td>\n",
       "      <td>1.5</td>\n",
       "      <td>0.2</td>\n",
       "      <td>0.0</td>\n",
       "    </tr>\n",
       "    <tr>\n",
       "      <th>4</th>\n",
       "      <td>5.0</td>\n",
       "      <td>3.6</td>\n",
       "      <td>1.4</td>\n",
       "      <td>0.2</td>\n",
       "      <td>0.0</td>\n",
       "    </tr>\n",
       "    <tr>\n",
       "      <th>...</th>\n",
       "      <td>...</td>\n",
       "      <td>...</td>\n",
       "      <td>...</td>\n",
       "      <td>...</td>\n",
       "      <td>...</td>\n",
       "    </tr>\n",
       "    <tr>\n",
       "      <th>145</th>\n",
       "      <td>6.7</td>\n",
       "      <td>3.0</td>\n",
       "      <td>5.2</td>\n",
       "      <td>2.3</td>\n",
       "      <td>2.0</td>\n",
       "    </tr>\n",
       "    <tr>\n",
       "      <th>146</th>\n",
       "      <td>6.3</td>\n",
       "      <td>2.5</td>\n",
       "      <td>5.0</td>\n",
       "      <td>1.9</td>\n",
       "      <td>2.0</td>\n",
       "    </tr>\n",
       "    <tr>\n",
       "      <th>147</th>\n",
       "      <td>6.5</td>\n",
       "      <td>3.0</td>\n",
       "      <td>5.2</td>\n",
       "      <td>2.0</td>\n",
       "      <td>2.0</td>\n",
       "    </tr>\n",
       "    <tr>\n",
       "      <th>148</th>\n",
       "      <td>6.2</td>\n",
       "      <td>3.4</td>\n",
       "      <td>5.4</td>\n",
       "      <td>2.3</td>\n",
       "      <td>2.0</td>\n",
       "    </tr>\n",
       "    <tr>\n",
       "      <th>149</th>\n",
       "      <td>5.9</td>\n",
       "      <td>3.0</td>\n",
       "      <td>5.1</td>\n",
       "      <td>1.8</td>\n",
       "      <td>2.0</td>\n",
       "    </tr>\n",
       "  </tbody>\n",
       "</table>\n",
       "<p>150 rows × 5 columns</p>\n",
       "</div>"
      ],
      "text/plain": [
       "     Sepal_Length   Sepal_Width   Petal_Length   Petal_Width   Label\n",
       "0             5.1           3.5            1.4           0.2     0.0\n",
       "1             4.9           3.0            1.4           0.2     0.0\n",
       "2             4.7           3.2            1.3           0.2     0.0\n",
       "3             4.6           3.1            1.5           0.2     0.0\n",
       "4             5.0           3.6            1.4           0.2     0.0\n",
       "..            ...           ...            ...           ...     ...\n",
       "145           6.7           3.0            5.2           2.3     2.0\n",
       "146           6.3           2.5            5.0           1.9     2.0\n",
       "147           6.5           3.0            5.2           2.0     2.0\n",
       "148           6.2           3.4            5.4           2.3     2.0\n",
       "149           5.9           3.0            5.1           1.8     2.0\n",
       "\n",
       "[150 rows x 5 columns]"
      ]
     },
     "execution_count": 121,
     "metadata": {},
     "output_type": "execute_result"
    }
   ],
   "source": [
    "# Read data from CSV file into data_frame \n",
    "data_frame = pd.read_csv('./dataset/iris_full.csv')\n",
    "data_frame"
   ]
  },
  {
   "cell_type": "code",
   "execution_count": 122,
   "metadata": {},
   "outputs": [
    {
     "name": "stdout",
     "output_type": "stream",
     "text": [
      "X_train.shape: (120, 4)\n",
      "X_test.shape: (30, 4)\n",
      "y_train.shape: (120,)\n",
      "y_test.shape: (30,)\n"
     ]
    }
   ],
   "source": [
    "# Split feature set and target set\n",
    "feature_set = data_frame.iloc[:, :-1] # get all columns except the last column\n",
    "target_set = data_frame.iloc[:, -1] # get the last column\n",
    "\n",
    "# Divide dataset into train set and test set\n",
    "X_train, X_test, y_train, y_test = train_test_split(feature_set, target_set, test_size=0.2, random_state=42)\n",
    "\n",
    "# Print the size of the split dataset\n",
    "print(\"X_train.shape:\", X_train.shape)\n",
    "print(\"X_test.shape:\", X_test.shape)\n",
    "print(\"y_train.shape:\", y_train.shape)\n",
    "print(\"y_test.shape:\", y_test.shape)"
   ]
  },
  {
   "cell_type": "code",
   "execution_count": 123,
   "metadata": {},
   "outputs": [
    {
     "name": "stdout",
     "output_type": "stream",
     "text": [
      "120\n"
     ]
    }
   ],
   "source": [
    "m = X_train.shape[0]\n",
    "print(m)"
   ]
  },
  {
   "attachments": {},
   "cell_type": "markdown",
   "metadata": {},
   "source": [
    "<p>As we are using linearity, For vector multiplication adding a column in X with all the value 1</p>"
   ]
  },
  {
   "cell_type": "code",
   "execution_count": 124,
   "metadata": {},
   "outputs": [],
   "source": [
    "X = np.hstack((np.ones((m,1)),X_train))     "
   ]
  },
  {
   "attachments": {},
   "cell_type": "markdown",
   "metadata": {},
   "source": [
    "<p>As we have 3 classes for easier computation we will convert out output vector in matrix where no of columns is equal to the no of classes. The values in the matrix will be 0 or 1. For instance the rows where we have output 2 the column 2 will contain 1 and rest all 0</p>"
   ]
  },
  {
   "cell_type": "code",
   "execution_count": 125,
   "metadata": {},
   "outputs": [
    {
     "name": "stdout",
     "output_type": "stream",
     "text": [
      "{0.0, 1.0, 2.0}\n"
     ]
    }
   ],
   "source": [
    "print(set(target_set))"
   ]
  },
  {
   "cell_type": "code",
   "execution_count": 126,
   "metadata": {},
   "outputs": [],
   "source": [
    "k = np.unique(target_set)\n",
    "k.sort()\n",
    "\n",
    "label_mapping = {label: i for i, label in enumerate(k)}\n",
    "Y = np.zeros((m, len(k)))\n",
    "\n",
    "for cls in target_set:\n",
    "    cls_int = label_mapping[cls]\n",
    "    Y[np.where(y_train[:] == cls), cls_int] = 1"
   ]
  },
  {
   "attachments": {},
   "cell_type": "markdown",
   "metadata": {},
   "source": [
    "<h4>Softmax Function</h4>"
   ]
  },
  {
   "cell_type": "code",
   "execution_count": 127,
   "metadata": {},
   "outputs": [],
   "source": [
    "def softmax(z):\n",
    "    return np.exp(z)/np.sum(np.exp(z), axis=1).reshape(z.shape[0], 1)"
   ]
  },
  {
   "attachments": {},
   "cell_type": "markdown",
   "metadata": {},
   "source": [
    "<h4>Softmax Regression Implementation</h4>"
   ]
  },
  {
   "cell_type": "code",
   "execution_count": 128,
   "metadata": {},
   "outputs": [],
   "source": [
    "#define theta with size 3,5 as there are 3 classes and 5 features, lets take the initial value as 0\n",
    "theta = np.zeros((3,5))\n",
    "\n",
    "#learning rate\n",
    "learning_rate = 0.001\n",
    "\n",
    "#to store cost values\n",
    "cost_hist = []\n",
    "\n",
    "#no of iterations we want our model to be trained\n",
    "no_of_iterations = 50000\n",
    "\n",
    "#counter\n",
    "i = 0\n",
    "\n",
    "for i in range(no_of_iterations):\n",
    "\n",
    "    #model/hypothesis function\n",
    "    lineq = np.dot(X, theta.T)\n",
    "    h = softmax(lineq)\n",
    "\n",
    "    #Cost function \n",
    "    cost = -np.sum(Y * np.log(h)) / m\n",
    "    cost_hist.append(cost)\n",
    "    \n",
    "    #using gradient calculate new theta\n",
    "    delta = (learning_rate/m) * np.dot((h-Y).T, X)\n",
    "    theta = theta - delta\n",
    "    \n",
    "    i = i + 1"
   ]
  },
  {
   "cell_type": "code",
   "execution_count": 129,
   "metadata": {},
   "outputs": [
    {
     "data": {
      "image/png": "[encoded data removed]",
      "text/plain": [
       "<Figure size 640x480 with 1 Axes>"
      ]
     },
     "metadata": {},
     "output_type": "display_data"
    }
   ],
   "source": [
    "plt.plot(cost_hist)\n",
    "plt.show()"
   ]
  },
  {
   "attachments": {},
   "cell_type": "markdown",
   "metadata": {},
   "source": [
    "<h4>Prediction on test data</h4>"
   ]
  },
  {
   "cell_type": "code",
   "execution_count": 130,
   "metadata": {},
   "outputs": [],
   "source": [
    "#no of test samples\n",
    "m_test = X_test.shape[0]\n",
    "\n",
    "#As we are using vector implementation adding a column in test_X with all the value 1\n",
    "X_test = np.hstack((np.ones((m_test,1)),X_test))\n",
    "\n",
    "probab = softmax(np.dot(X_test,theta.T))\n",
    "predict = np.argmax(probab, axis=1)"
   ]
  },
  {
   "attachments": {},
   "cell_type": "markdown",
   "metadata": {},
   "source": [
    "<h4>Comparing our model with scikit library</h4>\n",
    "\n",
    "<p>Lets compare our model with the scikit logistic model. we have used mean square error, variance values and accuracy score for model comparison.</p>"
   ]
  },
  {
   "cell_type": "code",
   "execution_count": 131,
   "metadata": {},
   "outputs": [
    {
     "name": "stdout",
     "output_type": "stream",
     "text": [
      "Sklearn\n",
      "Coefficients: [[-2.38005529e-03 -4.02419296e-01  9.54493111e-01 -2.37483237e+00\n",
      "  -1.01014166e+00]\n",
      " [ 7.63122897e-04  5.14475748e-01 -2.47534327e-01 -2.15489816e-01\n",
      "  -7.59879355e-01]\n",
      " [ 1.61693239e-03 -1.12056452e-01 -7.06958784e-01  2.59032218e+00\n",
      "   1.77002102e+00]]\n",
      "Accuracy score: 1.00\n",
      "Mean squared error: 0.00\n",
      "Variance score: 1.00\n",
      "\n",
      "\n",
      "Our Model\n",
      "Coefficients: [[ 0.32797702  0.66417639  1.6340056  -2.23239798 -1.02376381]\n",
      " [ 0.37564778  0.55803221 -0.22117721 -0.07711884 -0.68150347]\n",
      " [-0.7036248  -1.2222086  -1.4128284   2.30951681  1.70526728]]\n",
      "Accuracy score: 1.00\n",
      "Mean squared error: 0.00\n",
      "Variance score: 1.00\n"
     ]
    },
    {
     "name": "stderr",
     "output_type": "stream",
     "text": [
      "c:\\Users\\dongu\\anaconda3\\lib\\site-packages\\sklearn\\linear_model\\_logistic.py:458: ConvergenceWarning: lbfgs failed to converge (status=1):\n",
      "STOP: TOTAL NO. of ITERATIONS REACHED LIMIT.\n",
      "\n",
      "Increase the number of iterations (max_iter) or scale the data as shown in:\n",
      "    https://scikit-learn.org/stable/modules/preprocessing.html\n",
      "Please also refer to the documentation for alternative solver options:\n",
      "    https://scikit-learn.org/stable/modules/linear_model.html#logistic-regression\n",
      "  n_iter_i = _check_optimize_result(\n"
     ]
    }
   ],
   "source": [
    "from sklearn import linear_model\n",
    "from sklearn.metrics import mean_squared_error, explained_variance_score, accuracy_score\n",
    "\n",
    "#train the model with training data\n",
    "regr = linear_model.LogisticRegression()\n",
    "regr.fit(X,y_train)\n",
    "#Predict our test data\n",
    "sklearn_predict = regr.predict(X_test)\n",
    "\n",
    "print('Sklearn')\n",
    "#coefficients\n",
    "print('Coefficients: {}'.format(regr.coef_))\n",
    "# Accuracy score\n",
    "print(\"Accuracy score: %.2f\" % accuracy_score(sklearn_predict, y_test))\n",
    "# The mean squared error\n",
    "print(\"Mean squared error: %.2f\" % mean_squared_error(sklearn_predict, y_test))\n",
    "# Explained variance score: 1 is perfect prediction\n",
    "print('Variance score: %.2f' % explained_variance_score(y_test, sklearn_predict))\n",
    "\n",
    "print('\\n')\n",
    "\n",
    "print('Our Model')\n",
    "#coefficients\n",
    "print('Coefficients: {}'.format(theta))\n",
    "# Accuracy score\n",
    "print(\"Accuracy score: %.2f\" % accuracy_score(predict, y_test))\n",
    "# The mean squared error\n",
    "print(\"Mean squared error: %.2f\" % mean_squared_error(predict, y_test))\n",
    "# Explained variance score: 1 is perfect prediction\n",
    "print('Variance score: %.2f' % explained_variance_score(y_test, predict))"
   ]
  }
 ],
 "metadata": {
  "kernelspec": {
   "display_name": "base",
   "language": "python",
   "name": "python3"
  },
  "language_info": {
   "codemirror_mode": {
    "name": "ipython",
    "version": 3
   },
   "file_extension": ".py",
   "mimetype": "text/x-python",
   "name": "python",
   "nbconvert_exporter": "python",
   "pygments_lexer": "ipython3",
   "version": "3.10.9"
  },
  "orig_nbformat": 4
 },
 "nbformat": 4,
 "nbformat_minor": 2
}
