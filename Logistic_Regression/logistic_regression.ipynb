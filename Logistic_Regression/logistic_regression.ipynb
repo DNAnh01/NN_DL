{
 "cells": [
  {
   "attachments": {},
   "cell_type": "markdown",
   "metadata": {},
   "source": [
    "# Introduction\n",
    "\n",
    "    Thuật toán Hồi quy logistic (Logistic Regression) là một thuật toán thuộc nhóm các thuật toán phân lớp.\n",
    "\n",
    "    Không giống như hồi quy tuyến tính, thuật toán hồi quy logistic sử dụng một hàm sigmoid logistic để trả về một giá trị xác suất có thể được ánh xạ tới hai hoặc nhiều lớp rời rạc\n",
    "\n",
    "## So sánh hồi quy tuyến tính và hồi quy logistic\n",
    "\n",
    "    Hồi quy tuyến tính có thể giúp người ta dự đoán được các giá trị liên tục\n",
    "\n",
    "    Dự đoán hồi quy logistic là rời rạc (chỉ cho phép các giá trị hoặc danh mục cụ thể), Chúng ta cũng có thể xem điểm xác suất của các dự đoán"
   ]
  },
  {
   "attachments": {},
   "cell_type": "markdown",
   "metadata": {},
   "source": [
    "<img src=\"./md_img/2.png\" width=\"500\" height=\"350\">"
   ]
  },
  {
   "attachments": {},
   "cell_type": "markdown",
   "metadata": {},
   "source": [
    "<img src=\"./md_img/1.png\" width=\"500\" height=\"350\">"
   ]
  },
  {
   "cell_type": "code",
   "execution_count": 35,
   "metadata": {},
   "outputs": [
    {
     "data": {
      "text/html": [
       "<div>\n",
       "<style scoped>\n",
       "    .dataframe tbody tr th:only-of-type {\n",
       "        vertical-align: middle;\n",
       "    }\n",
       "\n",
       "    .dataframe tbody tr th {\n",
       "        vertical-align: top;\n",
       "    }\n",
       "\n",
       "    .dataframe thead th {\n",
       "        text-align: right;\n",
       "    }\n",
       "</style>\n",
       "<table border=\"1\" class=\"dataframe\">\n",
       "  <thead>\n",
       "    <tr style=\"text-align: right;\">\n",
       "      <th></th>\n",
       "      <th>Slept</th>\n",
       "      <th>Studied</th>\n",
       "      <th>Passed</th>\n",
       "    </tr>\n",
       "  </thead>\n",
       "  <tbody>\n",
       "    <tr>\n",
       "      <th>0</th>\n",
       "      <td>4.855064</td>\n",
       "      <td>9.639962</td>\n",
       "      <td>1</td>\n",
       "    </tr>\n",
       "    <tr>\n",
       "      <th>1</th>\n",
       "      <td>8.625440</td>\n",
       "      <td>0.058927</td>\n",
       "      <td>0</td>\n",
       "    </tr>\n",
       "    <tr>\n",
       "      <th>2</th>\n",
       "      <td>3.828192</td>\n",
       "      <td>0.723199</td>\n",
       "      <td>0</td>\n",
       "    </tr>\n",
       "    <tr>\n",
       "      <th>3</th>\n",
       "      <td>7.150955</td>\n",
       "      <td>3.899420</td>\n",
       "      <td>1</td>\n",
       "    </tr>\n",
       "    <tr>\n",
       "      <th>4</th>\n",
       "      <td>6.477900</td>\n",
       "      <td>8.198181</td>\n",
       "      <td>1</td>\n",
       "    </tr>\n",
       "    <tr>\n",
       "      <th>...</th>\n",
       "      <td>...</td>\n",
       "      <td>...</td>\n",
       "      <td>...</td>\n",
       "    </tr>\n",
       "    <tr>\n",
       "      <th>95</th>\n",
       "      <td>0.022280</td>\n",
       "      <td>2.658428</td>\n",
       "      <td>0</td>\n",
       "    </tr>\n",
       "    <tr>\n",
       "      <th>96</th>\n",
       "      <td>7.630637</td>\n",
       "      <td>7.405351</td>\n",
       "      <td>1</td>\n",
       "    </tr>\n",
       "    <tr>\n",
       "      <th>97</th>\n",
       "      <td>3.684997</td>\n",
       "      <td>5.049965</td>\n",
       "      <td>0</td>\n",
       "    </tr>\n",
       "    <tr>\n",
       "      <th>98</th>\n",
       "      <td>7.484260</td>\n",
       "      <td>6.059396</td>\n",
       "      <td>1</td>\n",
       "    </tr>\n",
       "    <tr>\n",
       "      <th>99</th>\n",
       "      <td>2.030708</td>\n",
       "      <td>3.937267</td>\n",
       "      <td>0</td>\n",
       "    </tr>\n",
       "  </tbody>\n",
       "</table>\n",
       "<p>100 rows × 3 columns</p>\n",
       "</div>"
      ],
      "text/plain": [
       "       Slept   Studied  Passed\n",
       "0   4.855064  9.639962       1\n",
       "1   8.625440  0.058927       0\n",
       "2   3.828192  0.723199       0\n",
       "3   7.150955  3.899420       1\n",
       "4   6.477900  8.198181       1\n",
       "..       ...       ...     ...\n",
       "95  0.022280  2.658428       0\n",
       "96  7.630637  7.405351       1\n",
       "97  3.684997  5.049965       0\n",
       "98  7.484260  6.059396       1\n",
       "99  2.030708  3.937267       0\n",
       "\n",
       "[100 rows x 3 columns]"
      ]
     },
     "execution_count": 35,
     "metadata": {},
     "output_type": "execute_result"
    }
   ],
   "source": [
    "import pandas as pd\n",
    "import numpy as np\n",
    "import matplotlib.pyplot as plt\n",
    "\n",
    "data_frame = pd.read_csv('./dataset/data_classification.csv')\n",
    "data_frame"
   ]
  },
  {
   "cell_type": "code",
   "execution_count": 36,
   "metadata": {},
   "outputs": [],
   "source": [
    "passed_slept = []\n",
    "passed_studied = []\n",
    "failed_slept = []\n",
    "failed_studied = []\n",
    "\n",
    "for item in data_frame.values:\n",
    "    if item[2] == 1:\n",
    "        passed_slept.append(item[0])\n",
    "        passed_studied.append(item[1])\n",
    "    else:\n",
    "        failed_slept.append(item[0])\n",
    "        failed_studied.append(item[1])  \n",
    "         "
   ]
  },
  {
   "cell_type": "code",
   "execution_count": 37,
   "metadata": {},
   "outputs": [
    {
     "data": {
      "image/png": "[encoded data removed]",
      "text/plain": [
       "<Figure size 640x480 with 1 Axes>"
      ]
     },
     "metadata": {},
     "output_type": "display_data"
    }
   ],
   "source": [
    "plt.scatter(passed_slept, passed_studied, marker='o', c='b', label='Passed')\n",
    "plt.scatter(failed_slept, failed_studied, marker='x', c='r', label='Failed')\n",
    "plt.xlabel('Hours Slept')\n",
    "plt.ylabel('Hours Studied')\n",
    "plt.legend(loc ='lower left')\n",
    "plt.show()"
   ]
  },
  {
   "cell_type": "code",
   "execution_count": 38,
   "metadata": {},
   "outputs": [],
   "source": [
    "def sigmoid(z):\n",
    "    return 1.0 / (1 + np.exp(-z))\n",
    "\n",
    "def make_decision(p):\n",
    "    if p >= 0.5:\n",
    "        return 1\n",
    "    else:\n",
    "        return 0\n",
    "\n",
    "def predict(features, weights):\n",
    "    z = np.dot(features, weights)\n",
    "    return sigmoid(z)\n",
    "\n",
    "def cost_function(features, labels, weights):\n",
    "    \"\"\"\n",
    "    :param features: (100*3)\n",
    "    :param labels:  (100*1)\n",
    "    :param weights: (3*1)\n",
    "    :return:\n",
    "    \"\"\"\n",
    "    n =  len(labels)\n",
    "    predictions = predict(features, weights)\n",
    "    '''\n",
    "    predictions\n",
    "    [0.6, 0.7, 0.4, 0.6]\n",
    "    [1, 0, 1, 0]\n",
    "    '''\n",
    "\n",
    "    cost_class1 = -labels*np.log(predictions)\n",
    "    # [0.5, 0, 0.4, 0]\n",
    "    cost_class2 = -(1-labels)*np.log(1-predictions)\n",
    "    # [0, 0.52, 0, 0.66]\n",
    "    cost = cost_class1 + cost_class2\n",
    "    \n",
    "    return np.sum(cost)/n"
   ]
  },
  {
   "attachments": {},
   "cell_type": "markdown",
   "metadata": {},
   "source": [
    "<img src=\"./md_img/3.png\" width=\"500\" height=\"260\">"
   ]
  },
  {
   "cell_type": "code",
   "execution_count": 39,
   "metadata": {},
   "outputs": [],
   "source": [
    "def update_weight(features, labels, weights, learning_rate):\n",
    "    \"\"\"\n",
    "    :param features: (100*3)\n",
    "    :param labels:  (100*1)\n",
    "    :param weights: (3*1)\n",
    "    :param learning_rate: float\n",
    "    :return: new_weight: float\n",
    "    \"\"\"\n",
    "    \n",
    "    n = len(labels)\n",
    "    # giá trị dự đoán của tất cả các điểm\n",
    "    predictions = predict(features, weights)\n",
    "    gradient_descent = np.dot(features.T, (predictions - labels))/n\n",
    "    weights -= gradient_descent * learning_rate\n",
    "    return weights"
   ]
  },
  {
   "cell_type": "code",
   "execution_count": 40,
   "metadata": {},
   "outputs": [],
   "source": [
    "def train(features, labels, weights, learning_rate, iter):\n",
    "    cost_his = []\n",
    "    for i in range(iter):\n",
    "        weights = update_weight(features, labels, weights, learning_rate)\n",
    "        cost = cost_function(features, labels, weights)\n",
    "        cost_his.append(cost)\n",
    "\n",
    "    return weights, cost_his"
   ]
  },
  {
   "cell_type": "code",
   "execution_count": 41,
   "metadata": {},
   "outputs": [],
   "source": [
    "# Chuẩn bị dữ liệu đầu vào\n",
    "X = data_frame.values[:, :2]  # features (hours slept, hours studied)\n",
    "y = data_frame.values[:, 2]   # labels (0 or 1)\n",
    "\n",
    "# Thêm cột 1 vào ma trận features (cho bias)\n",
    "X = np.insert(X, 0, 1, axis=1)\n",
    "\n",
    "# Khởi tạo weights ban đầu\n",
    "weights = np.zeros(X.shape[1])\n",
    "\n",
    "# Thiết lập thông số huấn luyện\n",
    "learning_rate = 0.01\n",
    "iterations = 100\n",
    "\n",
    "# Huấn luyện mô hình\n",
    "trained_weights, loss_his = train(X, y, weights, learning_rate, iterations)"
   ]
  },
  {
   "cell_type": "code",
   "execution_count": 42,
   "metadata": {},
   "outputs": [
    {
     "data": {
      "image/png": "[encoded data removed]",
      "text/plain": [
       "<Figure size 640x480 with 1 Axes>"
      ]
     },
     "metadata": {},
     "output_type": "display_data"
    }
   ],
   "source": [
    "# In biểu đồ loss_his\n",
    "plt.plot(loss_his)\n",
    "plt.xlabel('Iteration')\n",
    "plt.ylabel('Loss')\n",
    "plt.title('Loss History')\n",
    "plt.show()"
   ]
  },
  {
   "cell_type": "code",
   "execution_count": 43,
   "metadata": {},
   "outputs": [
    {
     "name": "stdout",
     "output_type": "stream",
     "text": [
      "Prediction for sample [6.86 9.65] : 1\n"
     ]
    }
   ],
   "source": [
    "# Dự đoán cho giá trị cụ thể\n",
    "new_sample = np.array([1, 6.86, 9.65]) \n",
    "prediction = make_decision(predict(new_sample, trained_weights))\n",
    "\n",
    "print(\"Prediction for sample\", new_sample[1:], \":\", prediction)"
   ]
  }
 ],
 "metadata": {
  "kernelspec": {
   "display_name": "base",
   "language": "python",
   "name": "python3"
  },
  "language_info": {
   "codemirror_mode": {
    "name": "ipython",
    "version": 3
   },
   "file_extension": ".py",
   "mimetype": "text/x-python",
   "name": "python",
   "nbconvert_exporter": "python",
   "pygments_lexer": "ipython3",
   "version": "3.10.9"
  },
  "orig_nbformat": 4
 },
 "nbformat": 4,
 "nbformat_minor": 2
}
