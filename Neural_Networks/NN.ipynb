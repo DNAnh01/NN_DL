{
 "cells": [
  {
   "cell_type": "code",
   "execution_count": null,
   "metadata": {},
   "outputs": [],
   "source": [
    "from abc import ABC, abstractmethod\n",
    "import numpy as np"
   ]
  },
  {
   "attachments": {},
   "cell_type": "markdown",
   "metadata": {},
   "source": [
    "<h1>Layer</h1>"
   ]
  },
  {
   "cell_type": "code",
   "execution_count": null,
   "metadata": {},
   "outputs": [],
   "source": [
    "class Layer(ABC):\n",
    "    def __init__(self):\n",
    "        self.input = None\n",
    "        self.output = None\n",
    "        self.input_shape = None\n",
    "        self.output_shape = None\n",
    "        raise NotImplementedError\n",
    "    \n",
    "    @abstractmethod\n",
    "    def input(self):\n",
    "        return self.input\n",
    "    \n",
    "    @abstractmethod\n",
    "    def output(self):\n",
    "        return self.output\n",
    "    \n",
    "    @abstractmethod\n",
    "    def input_shape(self):\n",
    "        return self.input_shape\n",
    "    \n",
    "    @abstractmethod\n",
    "    def output_shape(self):\n",
    "        return self.output_shape\n",
    "    \n",
    "    @abstractmethod\n",
    "    def forward_propagation(self, input):\n",
    "        # raise NotImplementedError\n",
    "        pass\n",
    "\n",
    "    @abstractmethod\n",
    "    def backward_propagation(self, output_error, learning_rate):\n",
    "        # raise NotImplementedError\n",
    "        pass"
   ]
  },
  {
   "attachments": {},
   "cell_type": "markdown",
   "metadata": {},
   "source": [
    "<img src=\"./md_img/1.png\" width=\"\" height=\"\">"
   ]
  },
  {
   "attachments": {},
   "cell_type": "markdown",
   "metadata": {},
   "source": [
    "<h1>Fully connected layer</h1>"
   ]
  },
  {
   "cell_type": "code",
   "execution_count": null,
   "metadata": {},
   "outputs": [],
   "source": [
    "class FullyConnectedLayer(Layer):\n",
    "    def __init__(self, input_shape, output_shape):\n",
    "        \"\"\"\n",
    "        :param input_shape: (1,3)\n",
    "        :param output_shape: (1, 4)\n",
    "        \"\"\"\n",
    "        self.input_shape = input_shape\n",
    "        self.output_shape = output_shape\n",
    "        self.weights = np.random.rand(input_shape[1], output_shape[1]) - 0.5\n",
    "        self.bias = np.random.rand(1, output_shape[1]) - 0.5\n",
    "\n",
    "        def forward_propagation(self, input):\n",
    "            self.input = input\n",
    "            self.output = np.dot(self.input, self.weights) + self.bias\n",
    "            return self.output\n",
    "\n",
    "        def backward_propagation(self, output_error, learning_rate):\n",
    "            current_layer_error = np.dot(output_error, self.weights.T)\n",
    "            derivative_weight = np.dot(self.input.T, output_error)\n",
    "            self.weights -= derivative_weight*learning_rate\n",
    "            self.bias -= learning_rate*output_error\n",
    "            return current_layer_error"
   ]
  },
  {
   "attachments": {},
   "cell_type": "markdown",
   "metadata": {},
   "source": [
    "<h1>Activation layer</h1>"
   ]
  },
  {
   "cell_type": "code",
   "execution_count": null,
   "metadata": {},
   "outputs": [],
   "source": [
    "class ActivationLayer(Layer):\n",
    "    def __init__(self, input_shape, output_shape, activation, activation_prime):\n",
    "        self.input_shape = input_shape\n",
    "        self.output_shape = output_shape\n",
    "        self.activation = activation\n",
    "        self.activation_prime = activation_prime\n",
    "    \n",
    "    def forward_propagation(self, input):\n",
    "        self.input = input\n",
    "        self.output = self.activation(input)\n",
    "        return self.output\n",
    "\n",
    "    def backward_propagation(self, output_error, learning_rate):\n",
    "        return self.activation_prime(self.input)*output_error\n"
   ]
  },
  {
   "attachments": {},
   "cell_type": "markdown",
   "metadata": {},
   "source": [
    "<h1>Network</h1>"
   ]
  },
  {
   "cell_type": "code",
   "execution_count": null,
   "metadata": {},
   "outputs": [],
   "source": [
    "class Network:\n",
    "    def __init__(self):\n",
    "        self.layers = []\n",
    "        self.loss = None\n",
    "        self.loss_prime = None\n",
    "\n",
    "    def add(self, layer):\n",
    "        self.layers.append(layer)\n",
    "\n",
    "    def setup_loss(self, loss, loss_prime):\n",
    "        self.loss = loss\n",
    "        self.loss_prime = loss_prime\n",
    "\n",
    "    def predict(self, input):\n",
    "        result = []\n",
    "        n = len(input)\n",
    "        for i in range(n):\n",
    "            output = input[i]\n",
    "            for layer in self.layers:\n",
    "                output = layer.forward_propagation(output)\n",
    "            result.append(output)\n",
    "        return result\n",
    "\n",
    "\n",
    "    def fit(self, X_train, y_train, learning_rate, epochs):\n",
    "        n = len(X_train)\n",
    "        for i in range(epochs):\n",
    "            err = 0\n",
    "            for j in range(n):\n",
    "                # lan truyền tiến\n",
    "                output = X_train[j]\n",
    "                for layer in self.layers:\n",
    "                    output = layer.forward_propagation(output)\n",
    "                \n",
    "                # tính lỗi của từng dòng \n",
    "                err += self.loss(y_train[j], output)\n",
    "\n",
    "                error = self.loss_prime(y_train[j], output)\n",
    "\n",
    "                for layer in reversed(self.layers):\n",
    "                    error = layer.backward_propagation(error, learning_rate)\n",
    "            err = err/n\n",
    "\n",
    "            print('epoch: %d/%d err = %f'%(i, epochs, err))"
   ]
  },
  {
   "attachments": {},
   "cell_type": "markdown",
   "metadata": {},
   "source": [
    "<h2>Relu (Rectified Linear Unit)</h2>\n",
    "\n",
    "\n",
    "$\n",
    "ReLU(x) = \\begin{cases} \n",
    "      0 & \\text{nếu } x < 0 \\\\\n",
    "      x & \\text{nếu } x \\geq 0 \n",
    "   \\end{cases}\n",
    "$"
   ]
  },
  {
   "cell_type": "code",
   "execution_count": null,
   "metadata": {},
   "outputs": [],
   "source": [
    "def relu(z):\n",
    "   if z is None:\n",
    "      return 0\n",
    "   else:\n",
    "      z = int(z)\n",
    "   return np.maximum(0, z)\n",
    "\n"
   ]
  },
  {
   "cell_type": "code",
   "execution_count": null,
   "metadata": {},
   "outputs": [],
   "source": [
    "def relu_prime(z):\n",
    "    if z is None:\n",
    "        return 0\n",
    "    else:\n",
    "        z = int(z)\n",
    "    z[z < 0] = 0\n",
    "    z[z > 0] = 1\n",
    "    return z"
   ]
  },
  {
   "attachments": {},
   "cell_type": "markdown",
   "metadata": {},
   "source": [
    "<img src=\"./md_img/2.png\" width=\"500\" height=\"250\">"
   ]
  },
  {
   "cell_type": "code",
   "execution_count": null,
   "metadata": {},
   "outputs": [],
   "source": [
    "def loss(y_true, y_pred):\n",
    "    return 0.5*(y_pred-y_true)**2"
   ]
  },
  {
   "cell_type": "code",
   "execution_count": null,
   "metadata": {},
   "outputs": [],
   "source": [
    "def loss_prime(y_true, y_pred):\n",
    "    return y_pred-y_true"
   ]
  },
  {
   "cell_type": "code",
   "execution_count": null,
   "metadata": {},
   "outputs": [],
   "source": [
    "X_train = np.array([[[0, 0]], [[0, 1]], [[1, 0]], [[1,1]]])\n",
    "y_train = np.array([[[0]], [[1]], [[1]], [[0]]])\n",
    "\n",
    "net = Network()\n",
    "net.add(FullyConnectedLayer((1, 2), (1, 3)))\n",
    "net.add(ActivationLayer((1, 3), (1, 3), relu, relu_prime))\n",
    "net.add(FullyConnectedLayer((1, 3), (1, 1)))\n",
    "net.add(ActivationLayer((1, 1), (1, 1), relu, relu_prime))\n",
    "\n",
    "net.setup_loss(loss, loss_prime)\n",
    "\n",
    "net.fit(X_train, y_train, learning_rate=0.01, epochs=1000)\n",
    "\n",
    "out = net.predict([[0, 1]])\n",
    "\n",
    "print(\"result: \", out)"
   ]
  }
 ],
 "metadata": {
  "kernelspec": {
   "display_name": "base",
   "language": "python",
   "name": "python3"
  },
  "language_info": {
   "codemirror_mode": {
    "name": "ipython",
    "version": 3
   },
   "file_extension": ".py",
   "mimetype": "text/x-python",
   "name": "python",
   "nbconvert_exporter": "python",
   "pygments_lexer": "ipython3",
   "version": "3.10.9"
  },
  "orig_nbformat": 4
 },
 "nbformat": 4,
 "nbformat_minor": 2
}
