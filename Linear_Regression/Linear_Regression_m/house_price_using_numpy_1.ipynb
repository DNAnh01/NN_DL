{
 "cells": [
  {
   "cell_type": "code",
   "execution_count": 19,
   "metadata": {},
   "outputs": [
    {
     "name": "stdout",
     "output_type": "stream",
     "text": [
      "<class 'numpy.ndarray'>\n",
      "areas:  [6.7 4.6 3.5 5.5]\n",
      "prices:  [9.1 5.9 4.6 6.7]\n",
      "data_size:  4\n"
     ]
    },
    {
     "data": {
      "image/png": "[encoded data removed]",
      "text/plain": [
       "<Figure size 640x480 with 1 Axes>"
      ]
     },
     "metadata": {},
     "output_type": "display_data"
    }
   ],
   "source": [
    "# load data\n",
    "import numpy as np\n",
    "from numpy import genfromtxt\n",
    "import matplotlib.pyplot as plt\n",
    "\n",
    "data = genfromtxt('../dataset/house_price_data.csv', delimiter=',')\n",
    "areas = data[1:,0]\n",
    "prices = data[1:,1]\n",
    "data_size = areas.size\n",
    "\n",
    "print(type(areas))\n",
    "print('areas: ', areas)\n",
    "print('prices: ', prices)\n",
    "print('data_size: ', data_size)\n",
    "\n",
    "# Naive implementation\n",
    "plt.scatter(areas, prices)\n",
    "plt.xlabel('Diện tích nhà (x 100$m^2$)')\n",
    "plt.ylabel('Giá nhà (chục lượng vàng)')\n",
    "plt.xlim(3,7)\n",
    "plt.ylim(4,10)\n",
    "plt.show()"
   ]
  },
  {
   "attachments": {},
   "cell_type": "markdown",
   "metadata": {},
   "source": [
    "<img src=\"../md_img/3.png\" width=\"350\" height=\"350\">"
   ]
  },
  {
   "cell_type": "code",
   "execution_count": 20,
   "metadata": {},
   "outputs": [
    {
     "name": "stdout",
     "output_type": "stream",
     "text": [
      "[[6.7 1. ]\n",
      " [4.6 1. ]\n",
      " [3.5 1. ]\n",
      " [5.5 1. ]]\n"
     ]
    }
   ],
   "source": [
    "# vector [x, b]\n",
    "data = np.c_[areas, np.ones((data_size, 1))]\n",
    "print(data)"
   ]
  },
  {
   "cell_type": "code",
   "execution_count": 21,
   "metadata": {},
   "outputs": [
    {
     "name": "stdout",
     "output_type": "stream",
     "text": [
      "theta:  [-0.34  0.04]\n"
     ]
    }
   ],
   "source": [
    "# init weight\n",
    "eta = 0.01\n",
    "theta = np.array([-0.34, 0.04]) # [w, b]\n",
    "print('theta: ', theta)"
   ]
  },
  {
   "cell_type": "code",
   "execution_count": 22,
   "metadata": {},
   "outputs": [
    {
     "name": "stdout",
     "output_type": "stream",
     "text": [
      "\n",
      "data:  [6.7 1. ] 9.1\n",
      "z:  -2.238\n",
      "loss:  0 128.550244\n",
      "g_li:  -22.676\n",
      "gradient_i:  0 [-151.9292  -22.676 ]\n",
      "\n",
      "data:  [4.6 1. ] 5.9\n",
      "z:  -1.524\n",
      "loss:  1 55.115776000000004\n",
      "g_li:  -14.848\n",
      "gradient_i:  1 [-68.3008 -14.848 ]\n",
      "\n",
      "gradients:  [-110.115  -18.762]\n",
      "new params:  [0.76115 0.22762]\n"
     ]
    }
   ],
   "source": [
    "# how long\n",
    "epoch_max = 1\n",
    "# mini-batch size\n",
    "m = 2\n",
    "for epoch in range(epoch_max):\n",
    "    sum_of_losses = 0\n",
    "    gradients = np.zeros((2,))\n",
    "    for j in range(0, m, m):\n",
    "        for index in range(j, j+m):\n",
    "            xi = data[index]\n",
    "            yi = prices[index]\n",
    "            print('\\ndata: ', xi, yi)\n",
    "\n",
    "            # predict z/o\n",
    "            oi = xi.dot(theta)\n",
    "            print('z: ', oi)\n",
    "\n",
    "            # compute loss\n",
    "            li = (oi-yi)*(oi-yi)\n",
    "            print('loss: ', index, li)\n",
    "\n",
    "            # compute gradient\n",
    "            g_li = 2*(oi-yi)\n",
    "            print('g_li: ', g_li)\n",
    "            gradient_i = xi*g_li\n",
    "            print('gradient_i: ', index, gradient_i)\n",
    "\n",
    "            gradients = gradients + gradient_i\n",
    "            sum_of_losses = sum_of_losses + li\n",
    "        \n",
    "        sum_of_losses = sum_of_losses/2 # m=2\n",
    "            \n",
    "        gradients     = gradients/2 # m=2\n",
    "        print('\\ngradients: ', gradients)\n",
    "\n",
    "        theta = theta - eta*gradients\n",
    "        print('new params: ', theta)\n",
    "\n",
    "\n"
   ]
  },
  {
   "cell_type": "code",
   "execution_count": null,
   "metadata": {},
   "outputs": [],
   "source": [
    "# plt.plot(losses)\n",
    "# plt.xlabel('iteration')\n",
    "# plt.ylabel('losses')\n",
    "# plt.show()"
   ]
  }
 ],
 "metadata": {
  "kernelspec": {
   "display_name": "base",
   "language": "python",
   "name": "python3"
  },
  "language_info": {
   "codemirror_mode": {
    "name": "ipython",
    "version": 3
   },
   "file_extension": ".py",
   "mimetype": "text/x-python",
   "name": "python",
   "nbconvert_exporter": "python",
   "pygments_lexer": "ipython3",
   "version": "3.10.9"
  },
  "orig_nbformat": 4
 },
 "nbformat": 4,
 "nbformat_minor": 2
}
