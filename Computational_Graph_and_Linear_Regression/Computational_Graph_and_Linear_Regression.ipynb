{
 "cells": [
  {
   "attachments": {},
   "cell_type": "markdown",
   "metadata": {},
   "source": [
    "# Linear Regression"
   ]
  },
  {
   "attachments": {},
   "cell_type": "markdown",
   "metadata": {},
   "source": [
    "<img src=\"./md_img/1.png\" width=\"350\" height=\"250\">"
   ]
  },
  {
   "cell_type": "code",
   "execution_count": 6,
   "metadata": {},
   "outputs": [],
   "source": [
    "# forward\n",
    "def predict(x,w,b):\n",
    "    return x*w+ b\n",
    "\n",
    "# compute gradient \n",
    "def gradient(z,y,x):\n",
    "    dw = 2*x*(z-y)\n",
    "    db = 2*(z-y)\n",
    "    return (dw, db)\n",
    "\n",
    "# update weights\n",
    "def update_weight(w,b,n,dw,db):\n",
    "    w_new = w - n*dw\n",
    "    b_new = b - n*db\n",
    "    return (w_new, b_new)"
   ]
  },
  {
   "cell_type": "code",
   "execution_count": 7,
   "metadata": {},
   "outputs": [],
   "source": [
    "# test with a sample\n",
    "x = 6.7 # feature\n",
    "y = 9.1 # label\n",
    "\n",
    "# init weight\n",
    "b = 0.04\n",
    "w = -0.34\n",
    "n = 0.01"
   ]
  },
  {
   "cell_type": "code",
   "execution_count": 8,
   "metadata": {},
   "outputs": [
    {
     "name": "stdout",
     "output_type": "stream",
     "text": [
      "z:  -2.238\n"
     ]
    }
   ],
   "source": [
    "# predict z\n",
    "z = predict(x,w,b)\n",
    "print('z: ', z)"
   ]
  },
  {
   "cell_type": "code",
   "execution_count": 9,
   "metadata": {},
   "outputs": [
    {
     "name": "stdout",
     "output_type": "stream",
     "text": [
      "loss:  128.550244\n"
     ]
    }
   ],
   "source": [
    "# compute loss\n",
    "loss = (z-y)**2\n",
    "print('loss: ', loss)"
   ]
  },
  {
   "cell_type": "code",
   "execution_count": 10,
   "metadata": {},
   "outputs": [
    {
     "name": "stdout",
     "output_type": "stream",
     "text": [
      "dw -151.92919999999998\n",
      "db:  -22.676\n"
     ]
    }
   ],
   "source": [
    "# compute gradient\n",
    "(dw, db) = gradient(z,y,x)\n",
    "print('dw', dw)\n",
    "print('db: ', db)"
   ]
  },
  {
   "cell_type": "code",
   "execution_count": 11,
   "metadata": {},
   "outputs": [
    {
     "name": "stdout",
     "output_type": "stream",
     "text": [
      "w_new:  1.1792919999999998\n",
      "b_new:  0.26676\n"
     ]
    }
   ],
   "source": [
    "# update weight\n",
    "(w_new, b_new) = update_weight(w,b,n,dw,db)\n",
    "print('w_new: ', w_new)\n",
    "print('b_new: ', b_new)"
   ]
  },
  {
   "attachments": {},
   "cell_type": "markdown",
   "metadata": {},
   "source": [
    "<img src=\"./md_img/2.png\" width=\"350\" height=\"350\">"
   ]
  },
  {
   "cell_type": "code",
   "execution_count": 12,
   "metadata": {},
   "outputs": [],
   "source": [
    "import numpy as np\n",
    "\n",
    "# forward\n",
    "def predict(x,theta):\n",
    "    return x.dot(theta)\n",
    "\n",
    "# compute gradient \n",
    "def gradient(z,y,x):\n",
    "    dtheta = 2*x*(z-y)\n",
    "    return dtheta\n",
    "\n",
    "# update weights\n",
    "def update_weight(theta,n,dtheta):\n",
    "    dtheta_new = theta - n*dtheta\n",
    "    return dtheta_new"
   ]
  },
  {
   "cell_type": "code",
   "execution_count": 13,
   "metadata": {},
   "outputs": [],
   "source": [
    "# test with a sample\n",
    "x = np.array([6.7, 1])\n",
    "y = np.array([9.1])\n",
    "\n",
    "# init weight\n",
    "n = 0.01\n",
    "# theta = [w,b]\n",
    "theta = np.array([-0.34, 0.04])"
   ]
  },
  {
   "cell_type": "code",
   "execution_count": 14,
   "metadata": {},
   "outputs": [
    {
     "name": "stdout",
     "output_type": "stream",
     "text": [
      "Input data:  [6.7 1. ]\n",
      "Theta:  [-0.34  0.04]\n",
      "z:  -2.238\n"
     ]
    }
   ],
   "source": [
    "# predict o\n",
    "z = predict(x, theta)\n",
    "print('Input data: ', x)\n",
    "print('Theta: ', theta)\n",
    "print('z: ', z)"
   ]
  },
  {
   "cell_type": "code",
   "execution_count": 15,
   "metadata": {},
   "outputs": [
    {
     "name": "stdout",
     "output_type": "stream",
     "text": [
      "loss:  [128.550244]\n"
     ]
    }
   ],
   "source": [
    "# compute loss\n",
    "loss = (z-y)**2\n",
    "print('loss: ', loss)"
   ]
  },
  {
   "cell_type": "code",
   "execution_count": 16,
   "metadata": {},
   "outputs": [
    {
     "name": "stdout",
     "output_type": "stream",
     "text": [
      "dtheta:  [-151.9292  -22.676 ]\n"
     ]
    }
   ],
   "source": [
    "# compute gradient\n",
    "dtheta = gradient(z,y,x)\n",
    "print('dtheta: ', dtheta)"
   ]
  },
  {
   "cell_type": "code",
   "execution_count": 17,
   "metadata": {},
   "outputs": [
    {
     "name": "stdout",
     "output_type": "stream",
     "text": [
      "theta_new:  [1.179292 0.26676 ]\n"
     ]
    }
   ],
   "source": [
    "# update weight\n",
    "theta_new = update_weight(theta,n,dtheta)\n",
    "print('theta_new: ', theta_new)"
   ]
  }
 ],
 "metadata": {
  "kernelspec": {
   "display_name": "base",
   "language": "python",
   "name": "python3"
  },
  "language_info": {
   "codemirror_mode": {
    "name": "ipython",
    "version": 3
   },
   "file_extension": ".py",
   "mimetype": "text/x-python",
   "name": "python",
   "nbconvert_exporter": "python",
   "pygments_lexer": "ipython3",
   "version": "3.10.9"
  },
  "orig_nbformat": 4
 },
 "nbformat": 4,
 "nbformat_minor": 2
}
